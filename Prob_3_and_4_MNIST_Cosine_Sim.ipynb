{
  "cells": [
    {
      "cell_type": "markdown",
      "id": "1eef9aa7",
      "metadata": {
        "id": "1eef9aa7"
      },
      "source": [
        "#MNIST"
      ]
    },
    {
      "cell_type": "code",
      "execution_count": 1,
      "id": "2226910c",
      "metadata": {
        "colab": {
          "base_uri": "https://localhost:8080/"
        },
        "id": "2226910c",
        "outputId": "225123c2-8a7c-4655-b355-3209bea0ce51"
      },
      "outputs": [
        {
          "output_type": "stream",
          "name": "stdout",
          "text": [
            "Requirement already satisfied: idx2numpy in /usr/local/lib/python3.10/dist-packages (1.2.3)\n",
            "Requirement already satisfied: numpy in /usr/local/lib/python3.10/dist-packages (from idx2numpy) (1.25.2)\n",
            "Requirement already satisfied: six in /usr/local/lib/python3.10/dist-packages (from idx2numpy) (1.16.0)\n",
            "Requirement already satisfied: scipy in /usr/local/lib/python3.10/dist-packages (1.11.4)\n",
            "Requirement already satisfied: numpy<1.28.0,>=1.21.6 in /usr/local/lib/python3.10/dist-packages (from scipy) (1.25.2)\n"
          ]
        }
      ],
      "source": [
        "!pip install idx2numpy\n",
        "!pip install scipy"
      ]
    },
    {
      "cell_type": "code",
      "execution_count": 2,
      "id": "939ee791",
      "metadata": {
        "colab": {
          "base_uri": "https://localhost:8080/"
        },
        "id": "939ee791",
        "outputId": "072b713c-1a34-4859-fa2c-e80792c53bef"
      },
      "outputs": [
        {
          "output_type": "stream",
          "name": "stdout",
          "text": [
            "Drive already mounted at /content/drive; to attempt to forcibly remount, call drive.mount(\"/content/drive\", force_remount=True).\n"
          ]
        }
      ],
      "source": [
        "import numpy as np\n",
        "import idx2numpy\n",
        "import matplotlib.pyplot as plt\n",
        "from google.colab import drive\n",
        "drive.mount('/content/drive')\n",
        "import pickle\n",
        "from scipy.sparse import csr_matrix"
      ]
    },
    {
      "cell_type": "code",
      "execution_count": 3,
      "id": "7103c463",
      "metadata": {
        "id": "7103c463"
      },
      "outputs": [],
      "source": [
        "train_images_path = '/content/drive/MyDrive/USML/HW1/Prob_3/train-images.idx3-ubyte'\n",
        "train_labels_path = '/content/drive/MyDrive/USML/HW1/Prob_3/train-labels.idx1-ubyte'\n",
        "test_images_path = '/content/drive/MyDrive/USML/HW1/Prob_3/t10k-images.idx3-ubyte'\n",
        "test_labels_path = '/content/drive/MyDrive/USML/HW1/Prob_3/t10k-labels.idx1-ubyte'"
      ]
    },
    {
      "cell_type": "code",
      "execution_count": 4,
      "id": "3b275c35",
      "metadata": {
        "id": "3b275c35"
      },
      "outputs": [],
      "source": [
        "train_images = idx2numpy.convert_from_file(train_images_path)\n",
        "train_labels = idx2numpy.convert_from_file(train_labels_path)\n",
        "test_images = idx2numpy.convert_from_file(test_images_path)\n",
        "test_labels = idx2numpy.convert_from_file(test_labels_path)"
      ]
    },
    {
      "cell_type": "code",
      "source": [
        "# 1. Combine data to get 70k images\n",
        "all_imgs = np.concatenate((train_images, test_images), axis=0)"
      ],
      "metadata": {
        "id": "ep8qFc5qLXMX"
      },
      "id": "ep8qFc5qLXMX",
      "execution_count": 5,
      "outputs": []
    },
    {
      "cell_type": "code",
      "source": [
        "all_imgs.shape"
      ],
      "metadata": {
        "colab": {
          "base_uri": "https://localhost:8080/"
        },
        "id": "ElFAjLxXLgO9",
        "outputId": "b388500e-9f7e-4f08-db39-b19cf435fa7e"
      },
      "id": "ElFAjLxXLgO9",
      "execution_count": 6,
      "outputs": [
        {
          "output_type": "execute_result",
          "data": {
            "text/plain": [
              "(70000, 28, 28)"
            ]
          },
          "metadata": {},
          "execution_count": 6
        }
      ]
    },
    {
      "cell_type": "code",
      "source": [
        "# 2. Flat all images\n",
        "all_imgs_flat = all_imgs.reshape(all_imgs.shape[0], -1)"
      ],
      "metadata": {
        "id": "bnFXKWUdLqVM"
      },
      "id": "bnFXKWUdLqVM",
      "execution_count": 7,
      "outputs": []
    },
    {
      "cell_type": "code",
      "source": [
        "all_imgs_flat.shape"
      ],
      "metadata": {
        "colab": {
          "base_uri": "https://localhost:8080/"
        },
        "id": "YBBLhxMXLuxk",
        "outputId": "695edc93-b95a-4883-db22-825b5a6b32e0"
      },
      "id": "YBBLhxMXLuxk",
      "execution_count": 8,
      "outputs": [
        {
          "output_type": "execute_result",
          "data": {
            "text/plain": [
              "(70000, 784)"
            ]
          },
          "metadata": {},
          "execution_count": 8
        }
      ]
    },
    {
      "cell_type": "code",
      "source": [
        "# 3. if pixel_val>0 -> 1\n",
        "all_imgs_flat[all_imgs_flat > 0] = 1"
      ],
      "metadata": {
        "id": "40awzDuYLyTU"
      },
      "id": "40awzDuYLyTU",
      "execution_count": 9,
      "outputs": []
    },
    {
      "cell_type": "code",
      "source": [
        "all_labels = np.concatenate((train_labels, test_labels), axis=0)"
      ],
      "metadata": {
        "id": "uaoZAzofNAiT"
      },
      "id": "uaoZAzofNAiT",
      "execution_count": 10,
      "outputs": []
    },
    {
      "cell_type": "code",
      "source": [
        "i = 3\n",
        "plt.imshow(all_imgs_flat[i].reshape((28,28)), cmap='viridis', interpolation='nearest')\n",
        "plt.colorbar()  # Show color scale\n",
        "plt.title(f'Image of {all_labels[i]}')\n",
        "plt.xlabel('X-axis')\n",
        "plt.ylabel('Y-axis')\n",
        "plt.show()"
      ],
      "metadata": {
        "colab": {
          "base_uri": "https://localhost:8080/",
          "height": 472
        },
        "id": "0sVmW0XOMJ9u",
        "outputId": "bdc37637-2564-4ad2-cc37-372f30168c68"
      },
      "id": "0sVmW0XOMJ9u",
      "execution_count": 11,
      "outputs": [
        {
          "output_type": "display_data",
          "data": {
            "text/plain": [
              "<Figure size 640x480 with 2 Axes>"
            ],
            "image/png": "[encoded data removed]"
          },
          "metadata": {}
        }
      ]
    },
    {
      "cell_type": "code",
      "source": [
        "sparse_imgs_flat = csr_matrix(all_imgs_flat)"
      ],
      "metadata": {
        "id": "Op_fmuNsJ-Vc"
      },
      "id": "Op_fmuNsJ-Vc",
      "execution_count": 12,
      "outputs": []
    },
    {
      "cell_type": "code",
      "source": [
        "sparse_imgs_flat.shape"
      ],
      "metadata": {
        "colab": {
          "base_uri": "https://localhost:8080/"
        },
        "id": "p6RlG9g_KGhd",
        "outputId": "69dfe3a8-31ea-44f1-d10d-55124e26adf3"
      },
      "id": "p6RlG9g_KGhd",
      "execution_count": 13,
      "outputs": [
        {
          "output_type": "execute_result",
          "data": {
            "text/plain": [
              "(70000, 784)"
            ]
          },
          "metadata": {},
          "execution_count": 13
        }
      ]
    },
    {
      "cell_type": "code",
      "source": [
        "dot_product = sparse_imgs_flat.dot(sparse_imgs_flat.T)"
      ],
      "metadata": {
        "id": "fNRI2b2iGKJr"
      },
      "id": "fNRI2b2iGKJr",
      "execution_count": 14,
      "outputs": []
    },
    {
      "cell_type": "code",
      "source": [
        "mag_arr = np.sum(all_imgs_flat, axis=1)"
      ],
      "metadata": {
        "id": "HVals1HPGlA0"
      },
      "id": "HVals1HPGlA0",
      "execution_count": 15,
      "outputs": []
    },
    {
      "cell_type": "code",
      "source": [
        "non_zero_values = dot_product.data"
      ],
      "metadata": {
        "id": "dhF_rTbxQTsP"
      },
      "id": "dhF_rTbxQTsP",
      "execution_count": 16,
      "outputs": []
    },
    {
      "cell_type": "code",
      "source": [
        "non_zero_values.shape"
      ],
      "metadata": {
        "colab": {
          "base_uri": "https://localhost:8080/"
        },
        "id": "2LuNpbjVRIPd",
        "outputId": "f7382d8b-cdec-4f2d-9b85-c2f2db3a19e0"
      },
      "id": "2LuNpbjVRIPd",
      "execution_count": 17,
      "outputs": [
        {
          "output_type": "execute_result",
          "data": {
            "text/plain": [
              "(4899999521,)"
            ]
          },
          "metadata": {},
          "execution_count": 17
        }
      ]
    },
    {
      "cell_type": "code",
      "source": [
        "dot_product.shape"
      ],
      "metadata": {
        "colab": {
          "base_uri": "https://localhost:8080/"
        },
        "id": "DvJPovXmROnO",
        "outputId": "0a09f98d-2b1f-425f-f881-6cc2dad4c418"
      },
      "id": "DvJPovXmROnO",
      "execution_count": 18,
      "outputs": [
        {
          "output_type": "execute_result",
          "data": {
            "text/plain": [
              "(70000, 70000)"
            ]
          },
          "metadata": {},
          "execution_count": 18
        }
      ]
    },
    {
      "cell_type": "markdown",
      "source": [
        "## PROBLEM 4: MNIST, 20 NG : Train and test KNN classification (supervised)\n",
        "Your goal in this problem is to write your own K-nearest neighbor (KNN) classifier.\n",
        "\n",
        "For each of the two datasets, now in matrix format and with pairwise similarity computed, train and test a KNN classifier. You are required to implement KNN classification model yourself, though you may use support libraries / data-structures for the neighbor searching.\n",
        "\n",
        "You should partition the datasets into (say) an 80/10/10 training/testing/validation sets. Note that the actual \"training\" here consists of simply identifying nearest neighbors---unlike other common classifiers, there is no iterative or gradient-based procedure.\n",
        "\n",
        "Report both training performance and testing performance. If using Python, you are encouraged (but not required) to write a scikit-learn compatible *estimator* class supporting a common API interface, e.g. *.fit(), *.predict(), *.transform(), etc. See https://scikit-learn.org/stable/developers/develop.html for more details."
      ],
      "metadata": {
        "id": "_nM_oqEQ1_tA"
      },
      "id": "_nM_oqEQ1_tA"
    },
    {
      "cell_type": "code",
      "source": [
        "# for all images in test identify nearest neighbors in the set of training images"
      ],
      "metadata": {
        "id": "wWJoLcUO2GAg"
      },
      "id": "wWJoLcUO2GAg",
      "execution_count": 30,
      "outputs": []
    },
    {
      "cell_type": "code",
      "source": [
        "def cosine_similarity(idx1, idx2):\n",
        "  row_at_idx = dot_product.getrow(idx1).toarray()\n",
        "  dot_prod = row_at_idx[0][idx2]\n",
        "  mag_1 = np.sqrt(mag_arr[idx1])\n",
        "  mag_2 = np.sqrt(mag_arr[idx2])\n",
        "  return dot_prod / (mag_1 * mag_2)\n",
        "\n",
        "\n"
      ],
      "metadata": {
        "id": "hKvmEVG7fDIM"
      },
      "id": "hKvmEVG7fDIM",
      "execution_count": 66,
      "outputs": []
    },
    {
      "cell_type": "code",
      "source": [
        "print(cosine_similarity(0, 0),train_labels[0], train_labels[0])"
      ],
      "metadata": {
        "colab": {
          "base_uri": "https://localhost:8080/"
        },
        "id": "7ymE6krnmLVj",
        "outputId": "d6d059d3-55f2-4841-b14d-139b2739261b"
      },
      "id": "7ymE6krnmLVj",
      "execution_count": 70,
      "outputs": [
        {
          "output_type": "stream",
          "name": "stdout",
          "text": [
            "0.9999999999999998 5 5\n"
          ]
        }
      ]
    },
    {
      "cell_type": "code",
      "source": [
        "print(cosine_similarity(3, 23),train_labels[3], train_labels[23])"
      ],
      "metadata": {
        "colab": {
          "base_uri": "https://localhost:8080/"
        },
        "id": "-MnqRFvbm_m7",
        "outputId": "c28fc5d5-1123-4ceb-8ea9-eaa23db9dee4"
      },
      "id": "-MnqRFvbm_m7",
      "execution_count": 71,
      "outputs": [
        {
          "output_type": "stream",
          "name": "stdout",
          "text": [
            "0.911007250534438 1 1\n"
          ]
        }
      ]
    },
    {
      "cell_type": "code",
      "source": [
        "print(cosine_similarity(3, 2),train_labels[3], train_labels[2])"
      ],
      "metadata": {
        "colab": {
          "base_uri": "https://localhost:8080/"
        },
        "id": "7-_Oj-SnnDeX",
        "outputId": "c64bdbec-f0cd-4244-b7dc-34245faeffc8"
      },
      "id": "7-_Oj-SnnDeX",
      "execution_count": 72,
      "outputs": [
        {
          "output_type": "stream",
          "name": "stdout",
          "text": [
            "0.24224069756247724 1 4\n"
          ]
        }
      ]
    },
    {
      "cell_type": "code",
      "source": [
        "# train = 0 - 55,999 ; val = 56,000 - 62,999 ; test = 63,000 - 69,999"
      ],
      "metadata": {
        "id": "9NZncOJMkSjp"
      },
      "id": "9NZncOJMkSjp",
      "execution_count": 87,
      "outputs": []
    },
    {
      "cell_type": "code",
      "source": [
        "def predict(idx, k=10):\n",
        "  heap = []\n",
        "  for i in range(100): ###\n",
        "    curr_cos_sim = cosine_similarity(idx, i)\n",
        "    if len(heap) == 0:\n",
        "      heap.append([curr_cos_sim,i])\n",
        "    else:\n",
        "      if (heap[0][0]<curr_cos_sim):\n",
        "        heap.insert(0, [curr_cos_sim,i])\n",
        "      else:\n",
        "        heap.append([curr_cos_sim,i])\n",
        "        heap.sort(key=lambda x: x[0],reverse=True)\n",
        "      if(len(heap)>k):\n",
        "        heap.pop(-1)\n",
        "\n",
        "  # reporting most frequent label\n",
        "  d = {}\n",
        "  for i in range(k):\n",
        "    if train_labels[heap[i][1]] in d:\n",
        "      d[train_labels[heap[i][1]]] += 1\n",
        "    else:\n",
        "      d[train_labels[heap[i][1]]] = 1\n",
        "  return max(d, key=d.get)\n",
        ""
      ],
      "metadata": {
        "id": "8d66pRG_koXp"
      },
      "id": "8d66pRG_koXp",
      "execution_count": 106,
      "outputs": []
    },
    {
      "cell_type": "code",
      "source": [
        "# Evaluating train\n",
        "correct = 0\n",
        "for i in range(100): ####\n",
        "  if(predict(i) == all_labels[i]):\n",
        "    correct += 1\n",
        "print(f'Training Accuracy: {(correct/100)*100}') ####"
      ],
      "metadata": {
        "colab": {
          "base_uri": "https://localhost:8080/"
        },
        "id": "0di7JgZOvUxv",
        "outputId": "c0e54e69-3993-461e-d6be-2654656b6279"
      },
      "id": "0di7JgZOvUxv",
      "execution_count": 110,
      "outputs": [
        {
          "output_type": "stream",
          "name": "stdout",
          "text": [
            "Training Accuracy: 85.0\n"
          ]
        }
      ]
    },
    {
      "cell_type": "code",
      "source": [
        "# Evaluating Validation\n",
        "correct = 0\n",
        "for i in range(56000,56100): ####\n",
        "  if(predict(i) == all_labels[i]):\n",
        "    correct += 1\n",
        "print(f'Validation Accuracy: {(correct/100)*100}') ####"
      ],
      "metadata": {
        "colab": {
          "base_uri": "https://localhost:8080/"
        },
        "id": "3bb7TAWcs557",
        "outputId": "97ebad4d-88b5-43f4-9e61-477121603a6a"
      },
      "id": "3bb7TAWcs557",
      "execution_count": 112,
      "outputs": [
        {
          "output_type": "stream",
          "name": "stdout",
          "text": [
            "Validation Accuracy: 59.0\n"
          ]
        }
      ]
    },
    {
      "cell_type": "code",
      "source": [
        "# Evaluating Test\n",
        "correct = 0\n",
        "for i in range(63000,63100): ####\n",
        "  if(predict(i) == all_labels[i]):\n",
        "    correct += 1\n",
        "print(f'Test Accuracy: {(correct/100)*100}') ####"
      ],
      "metadata": {
        "colab": {
          "base_uri": "https://localhost:8080/"
        },
        "id": "Ik4oIA7vt9vK",
        "outputId": "2b03421d-1ecc-4e55-ff71-c2c097d1e4ad"
      },
      "id": "Ik4oIA7vt9vK",
      "execution_count": 113,
      "outputs": [
        {
          "output_type": "stream",
          "name": "stdout",
          "text": [
            "Test Accuracy: 65.0\n"
          ]
        }
      ]
    },
    {
      "cell_type": "code",
      "source": [],
      "metadata": {
        "id": "gsKMzlgPza-P"
      },
      "id": "gsKMzlgPza-P",
      "execution_count": null,
      "outputs": []
    }
  ],
  "metadata": {
    "kernelspec": {
      "display_name": "Python 3",
      "name": "python3"
    },
    "language_info": {
      "name": "python"
    },
    "colab": {
      "provenance": [],
      "machine_shape": "hm",
      "gpuType": "L4"
    },
    "accelerator": "GPU"
  },
  "nbformat": 4,
  "nbformat_minor": 5
}