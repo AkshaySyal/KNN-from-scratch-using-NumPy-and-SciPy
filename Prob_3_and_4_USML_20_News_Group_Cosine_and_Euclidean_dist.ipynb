{
  "nbformat": 4,
  "nbformat_minor": 0,
  "metadata": {
    "colab": {
      "provenance": [],
      "machine_shape": "hm"
    },
    "kernelspec": {
      "name": "python3",
      "display_name": "Python 3"
    },
    "language_info": {
      "name": "python"
    }
  },
  "cells": [
    {
      "cell_type": "markdown",
      "source": [
        "#20 News Group\n",
        "Parsing: remove punctuations, lower case, tokenize, remove stop words, probably limit words<br>\n",
        "Normalization: for each doc, for all word count freq of word and create hashmap of unique_word(w): freq(w)<br>\n",
        "Pairwise Similarity: cosine similarity of 2 hashmap (w:freq(w))<br>\n",
        "<br>\n",
        "transformation: .tar -> text -> [doc] -> [dict(w:freq(w))]<br>\n",
        "<br>\n",
        "Eg:<br>\n",
        "text = \"Hello mat. How are you? \\n Hi Mat! How are you today.\" -> {hello: 1,mat:1,how:1,are:1,you:1} {hi:1, mat:1, how:1, are:1, you:1, today:1}<br>\n",
        "cos_sim = 1+1+1+1 / sqrt(5)*sqrt(6) = 0.73<br>"
      ],
      "metadata": {
        "id": "eo61wKLhGqYo"
      }
    },
    {
      "cell_type": "markdown",
      "source": [
        "#1. Parsing"
      ],
      "metadata": {
        "id": "bbXwk5ghHUyA"
      }
    },
    {
      "cell_type": "code",
      "source": [
        "!pip install scipy"
      ],
      "metadata": {
        "colab": {
          "base_uri": "https://localhost:8080/"
        },
        "id": "1T7NcEUJPSfn",
        "outputId": "86e42e21-ee45-4496-e969-4e40ced3677a"
      },
      "execution_count": null,
      "outputs": [
        {
          "output_type": "stream",
          "name": "stdout",
          "text": [
            "Requirement already satisfied: scipy in /usr/local/lib/python3.10/dist-packages (1.11.4)\n",
            "Requirement already satisfied: numpy<1.28.0,>=1.21.6 in /usr/local/lib/python3.10/dist-packages (from scipy) (1.25.2)\n"
          ]
        }
      ]
    },
    {
      "cell_type": "code",
      "execution_count": null,
      "metadata": {
        "colab": {
          "base_uri": "https://localhost:8080/"
        },
        "id": "964yLMPdEh3F",
        "outputId": "e05760ca-f300-485e-cb5b-91837dbd7487"
      },
      "outputs": [
        {
          "output_type": "stream",
          "name": "stderr",
          "text": [
            "[nltk_data] Downloading package punkt to /root/nltk_data...\n",
            "[nltk_data]   Package punkt is already up-to-date!\n",
            "[nltk_data] Downloading package stopwords to /root/nltk_data...\n",
            "[nltk_data]   Package stopwords is already up-to-date!\n"
          ]
        },
        {
          "output_type": "stream",
          "name": "stdout",
          "text": [
            "Drive already mounted at /content/drive; to attempt to forcibly remount, call drive.mount(\"/content/drive\", force_remount=True).\n"
          ]
        },
        {
          "output_type": "stream",
          "name": "stderr",
          "text": [
            "[nltk_data] Downloading package wordnet to /root/nltk_data...\n",
            "[nltk_data]   Package wordnet is already up-to-date!\n"
          ]
        }
      ],
      "source": [
        "from sklearn.datasets import fetch_20newsgroups\n",
        "import re\n",
        "import nltk\n",
        "from nltk.corpus import stopwords\n",
        "from nltk.tokenize import word_tokenize\n",
        "nltk.download('punkt')\n",
        "nltk.download('stopwords')\n",
        "from collections import Counter\n",
        "import math\n",
        "from google.colab import drive\n",
        "drive.mount('/content/drive')\n",
        "from sklearn.datasets import load_files\n",
        "import pickle\n",
        "import numpy as np\n",
        "import matplotlib.pyplot as plt\n",
        "nltk.download('wordnet')\n",
        "from scipy.sparse import csr_matrix"
      ]
    },
    {
      "cell_type": "code",
      "source": [
        "docs = fetch_20newsgroups(subset='all')"
      ],
      "metadata": {
        "id": "Ux0DzCZ_a7_F"
      },
      "execution_count": null,
      "outputs": []
    },
    {
      "cell_type": "code",
      "source": [
        "docs.keys()"
      ],
      "metadata": {
        "colab": {
          "base_uri": "https://localhost:8080/"
        },
        "id": "O-G86vuHzZRV",
        "outputId": "1690ce45-d543-4ac8-9007-55d4e7a2a738"
      },
      "execution_count": null,
      "outputs": [
        {
          "output_type": "execute_result",
          "data": {
            "text/plain": [
              "dict_keys(['data', 'filenames', 'target_names', 'target', 'DESCR'])"
            ]
          },
          "metadata": {},
          "execution_count": 5
        }
      ]
    },
    {
      "cell_type": "code",
      "source": [
        "len(docs.data)"
      ],
      "metadata": {
        "colab": {
          "base_uri": "https://localhost:8080/"
        },
        "id": "dFgMQiEGzm6H",
        "outputId": "a6176d00-0cad-4688-e2de-6d3471406c53"
      },
      "execution_count": null,
      "outputs": [
        {
          "output_type": "execute_result",
          "data": {
            "text/plain": [
              "18846"
            ]
          },
          "metadata": {},
          "execution_count": 9
        }
      ]
    },
    {
      "cell_type": "code",
      "source": [
        "labels = docs.target"
      ],
      "metadata": {
        "id": "P6PLQzYGRIMs"
      },
      "execution_count": null,
      "outputs": []
    },
    {
      "cell_type": "code",
      "source": [
        "def preprocess_text(text):\n",
        "  text = re.sub(r'[^a-zA-Z0-9 \\n]', '', text)\n",
        "  text = re.sub(r'\\n+', ' ', text)\n",
        "  text = text.lower()\n",
        "  tokens = word_tokenize(text)\n",
        "  stop_words = set(stopwords.words('english'))\n",
        "  tokens = [word for word in tokens if word not in stop_words]\n",
        "  dict_tokens = dict(Counter(tokens))\n",
        "  return dict_tokens"
      ],
      "metadata": {
        "id": "Q4BQrz6NT-RV"
      },
      "execution_count": null,
      "outputs": []
    },
    {
      "cell_type": "code",
      "source": [
        "processed_docs = []\n",
        "for i in range(len(docs.data)):\n",
        "  processed_docs.append(preprocess_text(docs.data[i]))"
      ],
      "metadata": {
        "id": "ooycND65bH3K"
      },
      "execution_count": null,
      "outputs": []
    },
    {
      "cell_type": "code",
      "source": [
        "# box plot of number of tokens in processed_docs\n",
        "plt.boxplot([len(x) for x in processed_docs])\n",
        "plt.show()"
      ],
      "metadata": {
        "colab": {
          "base_uri": "https://localhost:8080/",
          "height": 430
        },
        "id": "XkTau7yc4Kj_",
        "outputId": "207fe451-34c4-430e-db8d-bdaef3fd2410"
      },
      "execution_count": null,
      "outputs": [
        {
          "output_type": "display_data",
          "data": {
            "text/plain": [
              "<Figure size 640x480 with 1 Axes>"
            ],
            "image/png": "[encoded data removed]"
          },
          "metadata": {}
        }
      ]
    },
    {
      "cell_type": "code",
      "source": [
        "# mean, median of number of tokens in processed_docs\n",
        "print(np.mean([len(x) for x in processed_docs]))\n",
        "print(np.median([len(x) for x in processed_docs]))"
      ],
      "metadata": {
        "colab": {
          "base_uri": "https://localhost:8080/"
        },
        "id": "ObuxYiWH4ulW",
        "outputId": "a194b2ef-9897-46fe-e2fa-e8104e06672f"
      },
      "execution_count": null,
      "outputs": [
        {
          "output_type": "stream",
          "name": "stdout",
          "text": [
            "115.51464501751035\n",
            "84.0\n"
          ]
        }
      ]
    },
    {
      "cell_type": "code",
      "source": [
        "# average length of all tokens in processed_docs\n",
        "token_length_sum = 0\n",
        "unique_tokens = set()\n",
        "for i in range(len(processed_docs)):\n",
        "  for word in processed_docs[i]:\n",
        "    token_length_sum += len(word)\n",
        "    unique_tokens.add(word)\n",
        "print(token_length_sum/len(unique_tokens))"
      ],
      "metadata": {
        "colab": {
          "base_uri": "https://localhost:8080/"
        },
        "id": "-egFqqdP5zP0",
        "outputId": "32dbf95f-f366-44d3-85e5-8b2541e55dda"
      },
      "execution_count": null,
      "outputs": [
        {
          "output_type": "stream",
          "name": "stdout",
          "text": [
            "77.83682766907866\n"
          ]
        }
      ]
    },
    {
      "cell_type": "code",
      "source": [
        "# median length of all tokens in processed_docs\n",
        "token_lengths = []\n",
        "unique_tokens = list(unique_tokens)\n"
      ],
      "metadata": {
        "colab": {
          "base_uri": "https://localhost:8080/"
        },
        "id": "3PIFaBga6qg4",
        "outputId": "98ffdc8f-20ac-4bd7-9df5-d19a99ad1039"
      },
      "execution_count": null,
      "outputs": [
        {
          "output_type": "stream",
          "name": "stdout",
          "text": [
            "m2gez8qqwlp4g78qux7lnqokyvcusfsbee4\n"
          ]
        }
      ]
    },
    {
      "cell_type": "code",
      "source": [
        "from nltk.corpus import wordnet\n",
        "\n",
        "def is_valid_word(word):\n",
        "    return bool(wordnet.synsets(word))\n"
      ],
      "metadata": {
        "colab": {
          "base_uri": "https://localhost:8080/"
        },
        "id": "qSWPjoEo7aBS",
        "outputId": "a0abb0da-b781-4657-a52b-6c0c7c384d3a"
      },
      "execution_count": null,
      "outputs": [
        {
          "output_type": "stream",
          "name": "stdout",
          "text": [
            "Valid words: ['collimated', 'territory']\n",
            "Invalid words: ['6042559937', 'm3grga86a86a86a86a86a86a86a86rgrgrfb8fb4q', 'buechele']\n"
          ]
        }
      ]
    },
    {
      "cell_type": "code",
      "source": [
        "filtered_unique_tokens = []\n",
        "for word in unique_tokens:\n",
        "  if(is_valid_word(word)):\n",
        "    filtered_unique_tokens.append(word)"
      ],
      "metadata": {
        "id": "iju-kmlp61CJ"
      },
      "execution_count": null,
      "outputs": []
    },
    {
      "cell_type": "code",
      "source": [
        "print(len(filtered_unique_tokens),len(unique_tokens))"
      ],
      "metadata": {
        "colab": {
          "base_uri": "https://localhost:8080/"
        },
        "id": "QR9j_k588b_9",
        "outputId": "77aaee2d-c3b4-426b-ee80-ebde8f43e927"
      },
      "execution_count": null,
      "outputs": [
        {
          "output_type": "stream",
          "name": "stdout",
          "text": [
            "40791 191405\n"
          ]
        }
      ]
    },
    {
      "cell_type": "code",
      "source": [
        "# IDF measures how important a term is across the entire corpus. Terms that appear in many documents have a lower IDF.\n",
        "# Inverse Doc Freq = N/nt (N=Number of docs=18846, nt=number of documents that contain the term t)\n",
        "# Absolute word count (AWC) = Number of times a term appeared in corpus\n",
        "# Importance of term in entire corpus = IDF * AWC\n",
        "# Out of arnd 40k unique tokens I will select 10k tokens with highest importance"
      ],
      "metadata": {
        "id": "2x1MgYbx474O"
      },
      "execution_count": null,
      "outputs": []
    },
    {
      "cell_type": "code",
      "source": [
        "imp_filtered_tokens = {}\n",
        "\n",
        "for token in filtered_unique_tokens:\n",
        "  doc_count = 0\n",
        "  abs_word_count = 0\n",
        "  for i in range(len(processed_docs)):\n",
        "    if(token in processed_docs[i]):\n",
        "      doc_count += 1\n",
        "      abs_word_count += processed_docs[i][token]\n",
        "  idf = len(processed_docs)/doc_count\n",
        "  imp_filtered_tokens[token] = idf*abs_word_count"
      ],
      "metadata": {
        "id": "2A6_11hQCpIC"
      },
      "execution_count": null,
      "outputs": []
    },
    {
      "cell_type": "code",
      "source": [
        "most_important_10k_tokens = sorted(imp_filtered_tokens, key=imp_filtered_tokens.get, reverse=True)[:15000]"
      ],
      "metadata": {
        "id": "oxSP_ywIFVmD"
      },
      "execution_count": null,
      "outputs": []
    },
    {
      "cell_type": "code",
      "source": [
        "most_important_10k_tokens.sort()"
      ],
      "metadata": {
        "id": "GON-TEP2Io6D"
      },
      "execution_count": null,
      "outputs": []
    },
    {
      "cell_type": "code",
      "source": [
        "filename = '/content/drive/MyDrive/USML/HW1/Prob_3/most_important_10k_tokens_sorted.pkl'\n",
        "\n",
        "with open(filename, 'wb') as file:\n",
        "    pickle.dump(processed_docs, file)\n"
      ],
      "metadata": {
        "id": "Of2FXoIC3o1t"
      },
      "execution_count": null,
      "outputs": []
    },
    {
      "cell_type": "code",
      "source": [
        "dataset = np.zeros((18846, 15000))"
      ],
      "metadata": {
        "id": "TU1FaAokIUWm"
      },
      "execution_count": null,
      "outputs": []
    },
    {
      "cell_type": "code",
      "source": [
        "for i in range(len(processed_docs)):\n",
        "  for j in range(len(most_important_10k_tokens)):\n",
        "    if(most_important_10k_tokens[j] in processed_docs[i]):\n",
        "      dataset[i][j] = 1"
      ],
      "metadata": {
        "id": "_X5-xrdnKQ_q"
      },
      "execution_count": null,
      "outputs": []
    },
    {
      "cell_type": "code",
      "source": [
        "zero_count = np.count_nonzero(dataset == 0)\n",
        "\n",
        "# Calculate the total number of elements\n",
        "total_elements = dataset.size\n",
        "\n",
        "# Calculate sparsity of the matrix\n",
        "sparsity = zero_count / total_elements\n",
        "\n",
        "print(f\"Number of zeros: {zero_count}\")\n",
        "print(f\"Total elements: {total_elements}\")\n",
        "print(f\"Sparsity: {sparsity:.4f}\")  # Formatted to 4 decimal places"
      ],
      "metadata": {
        "colab": {
          "base_uri": "https://localhost:8080/"
        },
        "id": "RwoB971cLe30",
        "outputId": "2c09882a-61c8-42fa-d3f6-be0c5d7d12df"
      },
      "execution_count": null,
      "outputs": [
        {
          "output_type": "stream",
          "name": "stdout",
          "text": [
            "Number of zeros: 281371405\n",
            "Total elements: 282690000\n",
            "Sparsity: 0.9953\n"
          ]
        }
      ]
    },
    {
      "cell_type": "code",
      "source": [
        "dataset = dataset.astype(np.uint8)"
      ],
      "metadata": {
        "id": "Nh4C_nk2L3XU"
      },
      "execution_count": null,
      "outputs": []
    },
    {
      "cell_type": "code",
      "source": [
        "filename = '/content/drive/MyDrive/USML/HW1/Prob_3/dataset.pkl'\n",
        "\n",
        "with open(filename, 'wb') as file:\n",
        "    pickle.dump(processed_docs, file)\n"
      ],
      "metadata": {
        "id": "RwSOfbM7O1xg"
      },
      "execution_count": null,
      "outputs": []
    },
    {
      "cell_type": "code",
      "source": [
        "# Cosign Sim"
      ],
      "metadata": {
        "id": "fngqjW9zPY6D"
      },
      "execution_count": null,
      "outputs": []
    },
    {
      "cell_type": "code",
      "source": [
        "sparse_text_flat = csr_matrix(dataset)"
      ],
      "metadata": {
        "id": "f8IFl75iO_6U"
      },
      "execution_count": null,
      "outputs": []
    },
    {
      "cell_type": "code",
      "source": [
        "dot_product = sparse_text_flat.dot(sparse_text_flat.T)"
      ],
      "metadata": {
        "id": "8f9Rg96WPeMb"
      },
      "execution_count": null,
      "outputs": []
    },
    {
      "cell_type": "code",
      "source": [
        "mag_arr = np.sum(dataset, axis=1)"
      ],
      "metadata": {
        "id": "Nxzkv61yPpPQ"
      },
      "execution_count": null,
      "outputs": []
    },
    {
      "cell_type": "code",
      "source": [
        "non_zero_values = dot_product.data"
      ],
      "metadata": {
        "id": "-qBaa_zdPwfN"
      },
      "execution_count": null,
      "outputs": []
    },
    {
      "cell_type": "code",
      "source": [
        "non_zero_values.shape"
      ],
      "metadata": {
        "colab": {
          "base_uri": "https://localhost:8080/"
        },
        "id": "1SzBKe46P3n6",
        "outputId": "eda61b94-5fa7-4829-da7c-4ec49f421bb6"
      },
      "execution_count": null,
      "outputs": [
        {
          "output_type": "execute_result",
          "data": {
            "text/plain": [
              "(302681679,)"
            ]
          },
          "metadata": {},
          "execution_count": 121
        }
      ]
    },
    {
      "cell_type": "code",
      "source": [
        "dot_product.shape"
      ],
      "metadata": {
        "id": "g9fNFNpomJw6",
        "colab": {
          "base_uri": "https://localhost:8080/"
        },
        "outputId": "9f804495-daaf-4358-d0aa-b98b22fee7dd"
      },
      "execution_count": null,
      "outputs": [
        {
          "output_type": "execute_result",
          "data": {
            "text/plain": [
              "(18846, 18846)"
            ]
          },
          "metadata": {},
          "execution_count": 122
        }
      ]
    },
    {
      "cell_type": "markdown",
      "source": [
        "## PROBLEM 4: MNIST, 20 NG : Train and test KNN classification (supervised)\n",
        "Your goal in this problem is to write your own K-nearest neighbor (KNN) classifier.\n",
        "\n",
        "For each of the two datasets, now in matrix format and with pairwise similarity computed, train and test a KNN classifier. You are required to implement KNN classification model yourself, though you may use support libraries / data-structures for the neighbor searching.\n",
        "\n",
        "You should partition the datasets into (say) an 80/10/10 training/testing/validation sets. Note that the actual \"training\" here consists of simply identifying nearest neighbors---unlike other common classifiers, there is no iterative or gradient-based procedure.\n",
        "\n",
        "Report both training performance and testing performance. If using Python, you are encouraged (but not required) to write a scikit-learn compatible *estimator* class supporting a common API interface, e.g. *.fit(), *.predict(), *.transform(), etc. See https://scikit-learn.org/stable/developers/develop.html for more details."
      ],
      "metadata": {
        "id": "8kDPrfrZQEcH"
      }
    },
    {
      "cell_type": "code",
      "source": [
        "# train = 0 - 15,076 ; val = 15,077 - 16,960 ; test = 16,961- 18,845"
      ],
      "metadata": {
        "id": "6Brgt87RSARf"
      },
      "execution_count": null,
      "outputs": []
    },
    {
      "cell_type": "code",
      "source": [
        "def cosine_similarity(idx1, idx2):\n",
        "  row_at_idx = dot_product.getrow(idx1).toarray()\n",
        "  dot_prod = row_at_idx[0][idx2]\n",
        "  mag_1 = np.sqrt(mag_arr[idx1])\n",
        "  mag_2 = np.sqrt(mag_arr[idx2])\n",
        "  return dot_prod / (mag_1 * mag_2)\n",
        "\n",
        "\n"
      ],
      "metadata": {
        "id": "W2ebFOOTQAXK"
      },
      "execution_count": null,
      "outputs": []
    },
    {
      "cell_type": "code",
      "source": [
        "def evaluate(idx, k=10):\n",
        "  heap = []\n",
        "  for i in range(100): ###\n",
        "    curr_cos_sim = cosine_similarity(idx, i)\n",
        "    if len(heap) == 0:\n",
        "      heap.append([curr_cos_sim,i])\n",
        "    else:\n",
        "      if (heap[0][0]<curr_cos_sim):\n",
        "        heap.insert(0, [curr_cos_sim,i])\n",
        "      else:\n",
        "        heap.append([curr_cos_sim,i])\n",
        "        heap.sort(key=lambda x: x[0],reverse=True)\n",
        "      if(len(heap)>k):\n",
        "        heap.pop(-1)\n",
        "\n",
        "  # reporting most frequent label\n",
        "  d = {}\n",
        "  for i in range(k):\n",
        "    if labels[heap[i][1]] in d:\n",
        "      d[labels[heap[i][1]]] += 1\n",
        "    else:\n",
        "      d[labels[heap[i][1]]] = 1\n",
        "  return max(d, key=d.get)\n"
      ],
      "metadata": {
        "id": "5VEQqqD_QIcu"
      },
      "execution_count": null,
      "outputs": []
    },
    {
      "cell_type": "code",
      "source": [
        "# Evaluating train\n",
        "correct = 0\n",
        "for i in range(100): ####\n",
        "  if(evaluate(i) == labels[i]):\n",
        "    correct += 1\n",
        "print(f'Training Accuracy: {(correct/100)*100}') ####"
      ],
      "metadata": {
        "colab": {
          "base_uri": "https://localhost:8080/"
        },
        "collapsed": true,
        "id": "wxDMIiqIQMH_",
        "outputId": "455bc5ec-dffd-4d02-c6a0-85530f42339a"
      },
      "execution_count": null,
      "outputs": [
        {
          "output_type": "stream",
          "name": "stdout",
          "text": [
            "Training Accuracy: 69.0\n"
          ]
        }
      ]
    },
    {
      "cell_type": "code",
      "source": [
        "# Evaluating Validation\n",
        "correct = 0\n",
        "for i in range(15077,15177): ####\n",
        "  if(evaluate(i) == labels[i]):\n",
        "    correct += 1\n",
        "print(f'Validation Accuracy: {(correct/100)*100}') ####"
      ],
      "metadata": {
        "colab": {
          "base_uri": "https://localhost:8080/"
        },
        "id": "uHEgzFwLQNjB",
        "outputId": "13d8f7c8-a8a2-47ab-f645-b53e09392273"
      },
      "execution_count": null,
      "outputs": [
        {
          "output_type": "stream",
          "name": "stdout",
          "text": [
            "Validation Accuracy: 30.0\n"
          ]
        }
      ]
    },
    {
      "cell_type": "code",
      "source": [
        "# Evaluating Test\n",
        "correct = 0\n",
        "for i in range(16961,17061): ####\n",
        "  if(evaluate(i) == labels[i]):\n",
        "    correct += 1\n",
        "print(f'Test Accuracy: {(correct/100)*100}') ####"
      ],
      "metadata": {
        "colab": {
          "base_uri": "https://localhost:8080/"
        },
        "id": "VXdookm6QUWu",
        "outputId": "ecc45d30-55c3-4d3c-d936-d8efb574fd6e"
      },
      "execution_count": null,
      "outputs": [
        {
          "output_type": "stream",
          "name": "stdout",
          "text": [
            "Test Accuracy: 26.0\n"
          ]
        }
      ]
    },
    {
      "cell_type": "code",
      "source": [
        "# euclid Distance"
      ],
      "metadata": {
        "id": "CGOl8-2dSzfV"
      },
      "execution_count": null,
      "outputs": []
    },
    {
      "cell_type": "code",
      "source": [
        "def optimized_euclid_dist(x, y):\n",
        "  result = x ^ y\n",
        "  dist = np.sum(result)\n",
        "  del result\n",
        "  return dist.astype(np.uint16)\n"
      ],
      "metadata": {
        "id": "zixg6XSeTHji"
      },
      "execution_count": null,
      "outputs": []
    },
    {
      "cell_type": "code",
      "source": [
        "size = 177576435\n",
        "data = np.zeros(size, dtype=np.uint32)\n",
        "row = np.zeros(size, dtype=np.uint32)\n",
        "col = np.zeros(size, dtype=np.uint32)"
      ],
      "metadata": {
        "id": "Z0ciM7GXU0Tx"
      },
      "execution_count": null,
      "outputs": []
    },
    {
      "cell_type": "code",
      "source": [
        "subset_sz = 18846\n",
        "row_sz = subset_sz * (subset_sz - 1) // 2\n",
        "\n",
        "subset = dataset[0:subset_sz] # For testing\n",
        "subset_row = row[0:row_sz]\n",
        "subset_col = col[0:row_sz]\n",
        "subset_data = data[0:row_sz]\n",
        "\n",
        "print(\"Total size in bytes:\", subset_data.nbytes+subset_row.nbytes+subset_col.nbytes)"
      ],
      "metadata": {
        "colab": {
          "base_uri": "https://localhost:8080/"
        },
        "id": "O6CQxYuVTIgY",
        "outputId": "3e051fb3-d37b-42a2-c5e5-99ae70bcd168"
      },
      "execution_count": null,
      "outputs": [
        {
          "output_type": "stream",
          "name": "stdout",
          "text": [
            "Total size in bytes: 2130917220\n"
          ]
        }
      ]
    },
    {
      "cell_type": "code",
      "source": [
        "# Just running through the loop without any processing involved takes 22.5 min occupying 30GBs of space\n",
        "data_idx = 0\n",
        "\n",
        "for i in range(subset_sz):\n",
        "  for j in range(i + 1, subset_sz):\n",
        "    # subset_row[data_idx] = i\n",
        "    # subset_col[data_idx] = j\n",
        "    subset_data[data_idx] = optimized_euclid_dist(subset[i],subset[j])\n",
        "    data_idx += 1\n"
      ],
      "metadata": {
        "id": "K9zo8s4KTR0w"
      },
      "execution_count": null,
      "outputs": []
    },
    {
      "cell_type": "markdown",
      "source": [
        "## PROBLEM 4: MNIST, 20 NG : Train and test KNN classification (supervised)\n",
        "Your goal in this problem is to write your own K-nearest neighbor (KNN) classifier.\n",
        "\n",
        "For each of the two datasets, now in matrix format and with pairwise similarity computed, train and test a KNN classifier. You are required to implement KNN classification model yourself, though you may use support libraries / data-structures for the neighbor searching.\n",
        "\n",
        "You should partition the datasets into (say) an 80/10/10 training/testing/validation sets. Note that the actual \"training\" here consists of simply identifying nearest neighbors---unlike other common classifiers, there is no iterative or gradient-based procedure.\n",
        "\n",
        "Report both training performance and testing performance. If using Python, you are encouraged (but not required) to write a scikit-learn compatible *estimator* class supporting a common API interface, e.g. *.fit(), *.predict(), *.transform(), etc. See https://scikit-learn.org/stable/developers/develop.html for more details."
      ],
      "metadata": {
        "id": "-QHykJitVcPO"
      }
    },
    {
      "cell_type": "code",
      "source": [
        "def map_matrix_to_flat_idx(r,c):\n",
        "  return int((r/2)*(140000+1-r) + c)"
      ],
      "metadata": {
        "id": "OK3nslkFVWJh"
      },
      "execution_count": null,
      "outputs": []
    },
    {
      "cell_type": "code",
      "source": [
        "def eval_for_test_and_val(idx, k=10):\n",
        "  heap = []\n",
        "  for i in range(100): ###\n",
        "    arr_idx = map_matrix_to_flat_idx(i,idx)\n",
        "    curr_dist = subset_data[arr_idx]\n",
        "    if len(heap) == 0:\n",
        "      heap.append([curr_dist,i])\n",
        "    else:\n",
        "      if (heap[0][0]>curr_dist):\n",
        "        heap.insert(0, [curr_dist,i])\n",
        "      else:\n",
        "        heap.append([curr_dist,i])\n",
        "        heap.sort(key=lambda x: x[0])\n",
        "      if(len(heap)>k):\n",
        "        heap.pop(-1)\n",
        "\n",
        "  # reporting most frequent label\n",
        "  d = {}\n",
        "  for i in range(k):\n",
        "    if labels[heap[i][1]] in d:\n",
        "      d[labels[heap[i][1]]] += 1\n",
        "    else:\n",
        "      d[labels[heap[i][1]]] = 1\n",
        "  return max(d, key=d.get)\n"
      ],
      "metadata": {
        "id": "jMUc-YKcTr6C"
      },
      "execution_count": 153,
      "outputs": []
    },
    {
      "cell_type": "code",
      "source": [
        "def eval_for_train(idx, k=10):\n",
        "  heap = []\n",
        "  for i in range(idx+1,100): ###\n",
        "    arr_idx = map_matrix_to_flat_idx(idx,i)\n",
        "    #print(arr_idx)\n",
        "    curr_dist = subset_data[arr_idx]\n",
        "    if len(heap) == 0:\n",
        "      heap.append([curr_dist,i])\n",
        "    else:\n",
        "      if (heap[0][0]>curr_dist):\n",
        "        heap.insert(0, [curr_dist,i])\n",
        "      else:\n",
        "        heap.append([curr_dist,i])\n",
        "        heap.sort(key=lambda x: x[0])\n",
        "      if(len(heap)>k):\n",
        "        heap.pop(-1)\n",
        "\n",
        "  for i in range(idx): ###\n",
        "    arr_idx = map_matrix_to_flat_idx(i,idx)\n",
        "    curr_dist = subset_data[arr_idx]\n",
        "    if len(heap) == 0:\n",
        "      heap.append([curr_dist,i])\n",
        "    else:\n",
        "      if (heap[0][0]>curr_dist):\n",
        "        heap.insert(0, [curr_dist,i])\n",
        "      else:\n",
        "        heap.append([curr_dist,i])\n",
        "        heap.sort(key=lambda x: x[0])\n",
        "      if(len(heap)>k):\n",
        "        heap.pop(-1)\n",
        "\n",
        "  # reporting most frequent label\n",
        "  d = {}\n",
        "  for i in range(k):\n",
        "    if labels[heap[i][1]] in d:\n",
        "      d[labels[heap[i][1]]] += 1\n",
        "    else:\n",
        "      d[labels[heap[i][1]]] = 1\n",
        "  return max(d, key=d.get)\n"
      ],
      "metadata": {
        "id": "kj3y9sRuVhOD"
      },
      "execution_count": 154,
      "outputs": []
    },
    {
      "cell_type": "code",
      "source": [
        "# Evaluating train\n",
        "correct = 0\n",
        "for i in range(100): ####\n",
        "  if(eval_for_train(i) == labels[i]):\n",
        "    correct += 1\n",
        "print(f'Training Accuracy: {(correct/100)*100}') ####"
      ],
      "metadata": {
        "id": "kSMEnoOiVikR",
        "colab": {
          "base_uri": "https://localhost:8080/"
        },
        "outputId": "649b1772-3bed-4d84-bb28-e4b5357af492"
      },
      "execution_count": 155,
      "outputs": [
        {
          "output_type": "stream",
          "name": "stdout",
          "text": [
            "Training Accuracy: 7.000000000000001\n"
          ]
        }
      ]
    },
    {
      "cell_type": "code",
      "source": [
        "# Evaluating Validation\n",
        "correct = 0\n",
        "for i in range(15077,15177): ####\n",
        "  if(eval_for_test_and_val(i) == labels[i]):\n",
        "    correct += 1\n",
        "print(f'Validation Accuracy: {(correct/100)*100}') ####"
      ],
      "metadata": {
        "id": "00ZoTkZWVl6R",
        "colab": {
          "base_uri": "https://localhost:8080/"
        },
        "outputId": "68beb474-157d-480c-b58c-09d84887fb5a"
      },
      "execution_count": 157,
      "outputs": [
        {
          "output_type": "stream",
          "name": "stdout",
          "text": [
            "Validation Accuracy: 3.0\n"
          ]
        }
      ]
    },
    {
      "cell_type": "code",
      "source": [
        "# Evaluating Validation\n",
        "correct = 0\n",
        "for i in range(16961,17061): ####\n",
        "  if(eval_for_test_and_val(i) == labels[i]):\n",
        "    correct += 1\n",
        "print(f'Validation Accuracy: {(correct/100)*100}')"
      ],
      "metadata": {
        "id": "jZMHb-OLVm9K",
        "colab": {
          "base_uri": "https://localhost:8080/"
        },
        "outputId": "17ecd97a-dcce-4948-97bb-0a8921b756e6"
      },
      "execution_count": 158,
      "outputs": [
        {
          "output_type": "stream",
          "name": "stdout",
          "text": [
            "Validation Accuracy: 8.0\n"
          ]
        }
      ]
    },
    {
      "cell_type": "code",
      "source": [],
      "metadata": {
        "id": "GjUDnW_ukHd4"
      },
      "execution_count": null,
      "outputs": []
    }
  ]
}