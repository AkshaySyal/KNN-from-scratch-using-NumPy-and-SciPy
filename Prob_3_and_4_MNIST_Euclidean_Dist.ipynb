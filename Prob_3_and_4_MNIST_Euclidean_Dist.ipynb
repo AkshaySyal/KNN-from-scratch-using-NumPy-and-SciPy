{
  "cells": [
    {
      "cell_type": "markdown",
      "id": "1eef9aa7",
      "metadata": {
        "id": "1eef9aa7"
      },
      "source": [
        "#MNIST"
      ]
    },
    {
      "cell_type": "code",
      "execution_count": 1,
      "id": "2226910c",
      "metadata": {
        "colab": {
          "base_uri": "https://localhost:8080/"
        },
        "id": "2226910c",
        "outputId": "c1bc2ed1-4e7f-45ee-a3a4-eacd528fb6fc"
      },
      "outputs": [
        {
          "output_type": "stream",
          "name": "stdout",
          "text": [
            "Collecting idx2numpy\n",
            "  Downloading idx2numpy-1.2.3.tar.gz (6.8 kB)\n",
            "  Preparing metadata (setup.py) ... \u001b[?25l\u001b[?25hdone\n",
            "Requirement already satisfied: numpy in /usr/local/lib/python3.10/dist-packages (from idx2numpy) (1.25.2)\n",
            "Requirement already satisfied: six in /usr/local/lib/python3.10/dist-packages (from idx2numpy) (1.16.0)\n",
            "Building wheels for collected packages: idx2numpy\n",
            "  Building wheel for idx2numpy (setup.py) ... \u001b[?25l\u001b[?25hdone\n",
            "  Created wheel for idx2numpy: filename=idx2numpy-1.2.3-py3-none-any.whl size=7904 sha256=6089d674ff075c17bb2702f5774f5836b3093ff9dd700fccdb3d643fbe19eb34\n",
            "  Stored in directory: /root/.cache/pip/wheels/e0/f4/e7/643fc5f932ec2ff92997f43f007660feb23f948aa8486f1107\n",
            "Successfully built idx2numpy\n",
            "Installing collected packages: idx2numpy\n",
            "Successfully installed idx2numpy-1.2.3\n",
            "Requirement already satisfied: scipy in /usr/local/lib/python3.10/dist-packages (1.11.4)\n",
            "Requirement already satisfied: numpy<1.28.0,>=1.21.6 in /usr/local/lib/python3.10/dist-packages (from scipy) (1.25.2)\n"
          ]
        }
      ],
      "source": [
        "!pip install idx2numpy\n",
        "!pip install scipy"
      ]
    },
    {
      "cell_type": "code",
      "execution_count": 2,
      "id": "939ee791",
      "metadata": {
        "colab": {
          "base_uri": "https://localhost:8080/"
        },
        "id": "939ee791",
        "outputId": "bbac138a-592d-4bdb-be4e-13ad9a8dc6b6"
      },
      "outputs": [
        {
          "output_type": "stream",
          "name": "stdout",
          "text": [
            "Mounted at /content/drive\n"
          ]
        }
      ],
      "source": [
        "import numpy as np\n",
        "import idx2numpy\n",
        "import matplotlib.pyplot as plt\n",
        "from google.colab import drive\n",
        "drive.mount('/content/drive')\n",
        "import pickle\n",
        "from scipy.sparse import csr_matrix"
      ]
    },
    {
      "cell_type": "code",
      "execution_count": 3,
      "id": "7103c463",
      "metadata": {
        "id": "7103c463"
      },
      "outputs": [],
      "source": [
        "train_images_path = '/content/drive/MyDrive/USML/HW1/Prob_3/train-images.idx3-ubyte'\n",
        "train_labels_path = '/content/drive/MyDrive/USML/HW1/Prob_3/train-labels.idx1-ubyte'\n",
        "test_images_path = '/content/drive/MyDrive/USML/HW1/Prob_3/t10k-images.idx3-ubyte'\n",
        "test_labels_path = '/content/drive/MyDrive/USML/HW1/Prob_3/t10k-labels.idx1-ubyte'"
      ]
    },
    {
      "cell_type": "code",
      "execution_count": 4,
      "id": "3b275c35",
      "metadata": {
        "id": "3b275c35"
      },
      "outputs": [],
      "source": [
        "train_images = idx2numpy.convert_from_file(train_images_path)\n",
        "train_labels = idx2numpy.convert_from_file(train_labels_path)\n",
        "test_images = idx2numpy.convert_from_file(test_images_path)\n",
        "test_labels = idx2numpy.convert_from_file(test_labels_path)"
      ]
    },
    {
      "cell_type": "code",
      "source": [
        "# 1. Combine data to get 70k images\n",
        "all_imgs = np.concatenate((train_images, test_images), axis=0)"
      ],
      "metadata": {
        "id": "ep8qFc5qLXMX"
      },
      "id": "ep8qFc5qLXMX",
      "execution_count": 5,
      "outputs": []
    },
    {
      "cell_type": "code",
      "source": [
        "all_imgs.shape"
      ],
      "metadata": {
        "colab": {
          "base_uri": "https://localhost:8080/"
        },
        "id": "ElFAjLxXLgO9",
        "outputId": "73d9b0d5-5c1d-4f29-b380-2eb9d0fb0ecf"
      },
      "id": "ElFAjLxXLgO9",
      "execution_count": 6,
      "outputs": [
        {
          "output_type": "execute_result",
          "data": {
            "text/plain": [
              "(70000, 28, 28)"
            ]
          },
          "metadata": {},
          "execution_count": 6
        }
      ]
    },
    {
      "cell_type": "code",
      "source": [
        "# 2. Flat all images\n",
        "all_imgs_flat = all_imgs.reshape(all_imgs.shape[0], -1)"
      ],
      "metadata": {
        "id": "bnFXKWUdLqVM"
      },
      "id": "bnFXKWUdLqVM",
      "execution_count": 7,
      "outputs": []
    },
    {
      "cell_type": "code",
      "source": [
        "all_imgs_flat.shape"
      ],
      "metadata": {
        "colab": {
          "base_uri": "https://localhost:8080/"
        },
        "id": "YBBLhxMXLuxk",
        "outputId": "f0204637-38da-4fdc-e3b8-ff591370b9a4"
      },
      "id": "YBBLhxMXLuxk",
      "execution_count": 8,
      "outputs": [
        {
          "output_type": "execute_result",
          "data": {
            "text/plain": [
              "(70000, 784)"
            ]
          },
          "metadata": {},
          "execution_count": 8
        }
      ]
    },
    {
      "cell_type": "code",
      "source": [
        "# 3. if pixel_val>0 -> 1\n",
        "all_imgs_flat[all_imgs_flat > 0] = 1"
      ],
      "metadata": {
        "id": "40awzDuYLyTU"
      },
      "id": "40awzDuYLyTU",
      "execution_count": 9,
      "outputs": []
    },
    {
      "cell_type": "code",
      "source": [
        "all_labels = np.concatenate((train_labels, test_labels), axis=0)"
      ],
      "metadata": {
        "id": "uaoZAzofNAiT"
      },
      "id": "uaoZAzofNAiT",
      "execution_count": 10,
      "outputs": []
    },
    {
      "cell_type": "code",
      "source": [
        "i = 2\n",
        "plt.imshow(all_imgs_flat[i].reshape((28,28)), cmap='viridis', interpolation='nearest')\n",
        "plt.colorbar()  # Show color scale\n",
        "plt.title(f'Image of {all_labels[i]}')\n",
        "plt.xlabel('X-axis')\n",
        "plt.ylabel('Y-axis')\n",
        "plt.show()"
      ],
      "metadata": {
        "colab": {
          "base_uri": "https://localhost:8080/",
          "height": 472
        },
        "id": "0sVmW0XOMJ9u",
        "outputId": "9a40933a-b2d3-4287-e825-e4e62f6528ce"
      },
      "id": "0sVmW0XOMJ9u",
      "execution_count": 11,
      "outputs": [
        {
          "output_type": "display_data",
          "data": {
            "text/plain": [
              "<Figure size 640x480 with 2 Axes>"
            ],
            "image/png": "[encoded data removed]"
          },
          "metadata": {}
        }
      ]
    },
    {
      "cell_type": "code",
      "source": [
        "# 4. Convert numpy to scipy sparse arrays\n",
        "sparse_imgs_flat = csr_matrix(all_imgs_flat)"
      ],
      "metadata": {
        "id": "vL17-2nMNIm7"
      },
      "id": "vL17-2nMNIm7",
      "execution_count": 12,
      "outputs": []
    },
    {
      "cell_type": "code",
      "source": [
        "# 5. Initialize numpy arrays data, row, column to store 2d info in sparse format\n",
        "\n",
        "# Size of all array = upper triangle of matrix = 1+2+...69,999 =  2,449,965,000\n",
        "# Memory Size of data array = 2,449,965,000 * 4 bytes (assuming 32bit float is used) = 10GB (approx)\n",
        "# Memory size of row + column = 2 * 2,449,965,000 * 4 byte (assuming 32bit int is used) = 20GB (approx) [range of 16bit unsigned int is till 65k and dataset is 70k]\n",
        "# total = 30gb (approx)"
      ],
      "metadata": {
        "id": "SPC3C70IOVuB"
      },
      "id": "SPC3C70IOVuB",
      "execution_count": 13,
      "outputs": []
    },
    {
      "cell_type": "code",
      "source": [
        "size = 2449965000\n",
        "data = np.zeros(size, dtype=np.uint32)\n",
        "row = np.zeros(size, dtype=np.uint32)\n",
        "col = np.zeros(size, dtype=np.uint32)"
      ],
      "metadata": {
        "id": "v7ZtryxUUr27"
      },
      "id": "v7ZtryxUUr27",
      "execution_count": 14,
      "outputs": []
    },
    {
      "cell_type": "code",
      "source": [
        "print(\"Total size in bytes:\", data.nbytes+row.nbytes+col.nbytes) # 29.4 GB"
      ],
      "metadata": {
        "colab": {
          "base_uri": "https://localhost:8080/"
        },
        "id": "DefhBRQaVz8e",
        "outputId": "8cbad4d9-3241-476f-9b90-a9e55058e126"
      },
      "id": "DefhBRQaVz8e",
      "execution_count": 15,
      "outputs": [
        {
          "output_type": "stream",
          "name": "stdout",
          "text": [
            "Total size in bytes: 29399580000\n"
          ]
        }
      ]
    },
    {
      "cell_type": "code",
      "source": [
        "all_imgs_flat.shape"
      ],
      "metadata": {
        "colab": {
          "base_uri": "https://localhost:8080/"
        },
        "id": "sxVsgKpjWIZI",
        "outputId": "875f8062-d02a-4a94-a52a-c1c3c097d9af"
      },
      "id": "sxVsgKpjWIZI",
      "execution_count": 16,
      "outputs": [
        {
          "output_type": "execute_result",
          "data": {
            "text/plain": [
              "(70000, 784)"
            ]
          },
          "metadata": {},
          "execution_count": 16
        }
      ]
    },
    {
      "cell_type": "markdown",
      "source": [
        "##Calculating euclidean distances"
      ],
      "metadata": {
        "id": "0YccENJ21zl-"
      },
      "id": "0YccENJ21zl-"
    },
    {
      "cell_type": "code",
      "source": [
        "#from sklearn.metrics.pairwise import euclidean_distances"
      ],
      "metadata": {
        "id": "5mL3QoMhhvGz"
      },
      "id": "5mL3QoMhhvGz",
      "execution_count": 17,
      "outputs": []
    },
    {
      "cell_type": "code",
      "source": [
        "#distances = euclidean_distances(all_imgs_flat, all_imgs_flat)\n",
        "#distances = euclidean_distances(sparse_all_imgs, sparse_all_imgs)"
      ],
      "metadata": {
        "id": "15hqMh5f2qgJ"
      },
      "id": "15hqMh5f2qgJ",
      "execution_count": 18,
      "outputs": []
    },
    {
      "cell_type": "code",
      "source": [
        "#from sklearn.utils.extmath import safe_sparse_dot"
      ],
      "metadata": {
        "id": "WwGtA80h2sD6"
      },
      "id": "WwGtA80h2sD6",
      "execution_count": 19,
      "outputs": []
    },
    {
      "cell_type": "code",
      "source": [
        "# def euclid_dist(x, y):\n",
        "#   x_sq = safe_sparse_dot(x, x).astype(np.uint16)\n",
        "#   y_sq = safe_sparse_dot(y, y).astype(np.uint16)\n",
        "#   xy = safe_sparse_dot(x, y).astype(np.uint16)\n",
        "#   ans = (x_sq + y_sq - 2 * xy).astype(np.uint16)\n",
        "#   return  ans"
      ],
      "metadata": {
        "id": "9L2N5lVo5zGd"
      },
      "id": "9L2N5lVo5zGd",
      "execution_count": 20,
      "outputs": []
    },
    {
      "cell_type": "code",
      "source": [
        "def optimized_euclid_dist(x, y):\n",
        "  result = x ^ y\n",
        "  dist = np.sum(result)\n",
        "  del result\n",
        "  return dist.astype(np.uint16)\n"
      ],
      "metadata": {
        "id": "UkawpCy_eDlR"
      },
      "id": "UkawpCy_eDlR",
      "execution_count": 21,
      "outputs": []
    },
    {
      "cell_type": "code",
      "source": [
        "# def optimized_euclid_dist(x, y):\n",
        "#   squared_diff = (x - y).power(2)\n",
        "#   sum_squared_diff = squared_diff.sum()\n",
        "#   return sum_squared_diff\n"
      ],
      "metadata": {
        "id": "9HeJ8h1hE7JD"
      },
      "id": "9HeJ8h1hE7JD",
      "execution_count": 22,
      "outputs": []
    },
    {
      "cell_type": "code",
      "source": [
        "subset_sz = 70000\n",
        "row_sz = subset_sz * (subset_sz - 1) // 2\n",
        "\n",
        "subset = all_imgs_flat[0:subset_sz] # For testing\n",
        "subset_row = row[0:row_sz]\n",
        "subset_col = col[0:row_sz]\n",
        "subset_data = data[0:row_sz]\n",
        "\n",
        "print(\"Total size in bytes:\", subset_data.nbytes+subset_row.nbytes+subset_col.nbytes)"
      ],
      "metadata": {
        "colab": {
          "base_uri": "https://localhost:8080/"
        },
        "id": "wwoxoCV53y0t",
        "outputId": "46505c34-ff2d-4092-9058-39449515bb41"
      },
      "id": "wwoxoCV53y0t",
      "execution_count": 25,
      "outputs": [
        {
          "output_type": "stream",
          "name": "stdout",
          "text": [
            "Total size in bytes: 29399580000\n"
          ]
        }
      ]
    },
    {
      "cell_type": "code",
      "source": [
        "# Just running through the loop without any processing involved takes 22.5 min occupying 30GBs of space\n",
        "data_idx = 0\n",
        "\n",
        "for i in range(subset_sz):\n",
        "  for j in range(i + 1, subset_sz):\n",
        "    # subset_row[data_idx] = i\n",
        "    # subset_col[data_idx] = j\n",
        "    subset_data[data_idx] = optimized_euclid_dist(subset[i],subset[j])\n",
        "    data_idx += 1\n"
      ],
      "metadata": {
        "id": "7BO0iIgAFWoS"
      },
      "id": "7BO0iIgAFWoS",
      "execution_count": 26,
      "outputs": []
    },
    {
      "cell_type": "markdown",
      "source": [
        "## PROBLEM 4: MNIST, 20 NG : Train and test KNN classification (supervised)\n",
        "Your goal in this problem is to write your own K-nearest neighbor (KNN) classifier.\n",
        "\n",
        "For each of the two datasets, now in matrix format and with pairwise similarity computed, train and test a KNN classifier. You are required to implement KNN classification model yourself, though you may use support libraries / data-structures for the neighbor searching.\n",
        "\n",
        "You should partition the datasets into (say) an 80/10/10 training/testing/validation sets. Note that the actual \"training\" here consists of simply identifying nearest neighbors---unlike other common classifiers, there is no iterative or gradient-based procedure.\n",
        "\n",
        "Report both training performance and testing performance. If using Python, you are encouraged (but not required) to write a scikit-learn compatible *estimator* class supporting a common API interface, e.g. *.fit(), *.predict(), *.transform(), etc. See https://scikit-learn.org/stable/developers/develop.html for more details."
      ],
      "metadata": {
        "id": "_nM_oqEQ1_tA"
      },
      "id": "_nM_oqEQ1_tA"
    },
    {
      "cell_type": "code",
      "source": [
        "def map_matrix_to_flat_idx(r,c):\n",
        "  return int((r/2)*(140000+1-r) + c)"
      ],
      "metadata": {
        "id": "Ogqf1T5dMx0c"
      },
      "id": "Ogqf1T5dMx0c",
      "execution_count": 42,
      "outputs": []
    },
    {
      "cell_type": "code",
      "source": [
        "def eval_for_test_and_val(idx, k=10):\n",
        "  heap = []\n",
        "  for i in range(100): ###\n",
        "    arr_idx = map_matrix_to_flat_idx(i,idx)\n",
        "    curr_dist = subset_data[arr_idx]\n",
        "    if len(heap) == 0:\n",
        "      heap.append([curr_dist,i])\n",
        "    else:\n",
        "      if (heap[0][0]>curr_dist):\n",
        "        heap.insert(0, [curr_dist,i])\n",
        "      else:\n",
        "        heap.append([curr_dist,i])\n",
        "        heap.sort(key=lambda x: x[0])\n",
        "      if(len(heap)>k):\n",
        "        heap.pop(-1)\n",
        "\n",
        "  # reporting most frequent label\n",
        "  d = {}\n",
        "  for i in range(k):\n",
        "    if train_labels[heap[i][1]] in d:\n",
        "      d[train_labels[heap[i][1]]] += 1\n",
        "    else:\n",
        "      d[train_labels[heap[i][1]]] = 1\n",
        "  return max(d, key=d.get)\n"
      ],
      "metadata": {
        "id": "wWJoLcUO2GAg"
      },
      "id": "wWJoLcUO2GAg",
      "execution_count": 48,
      "outputs": []
    },
    {
      "cell_type": "code",
      "source": [
        "def eval_for_train(idx, k=10):\n",
        "  heap = []\n",
        "  for i in range(idx+1,100): ###\n",
        "    arr_idx = map_matrix_to_flat_idx(idx,i)\n",
        "    #print(arr_idx)\n",
        "    curr_dist = subset_data[arr_idx]\n",
        "    if len(heap) == 0:\n",
        "      heap.append([curr_dist,i])\n",
        "    else:\n",
        "      if (heap[0][0]>curr_dist):\n",
        "        heap.insert(0, [curr_dist,i])\n",
        "      else:\n",
        "        heap.append([curr_dist,i])\n",
        "        heap.sort(key=lambda x: x[0])\n",
        "      if(len(heap)>k):\n",
        "        heap.pop(-1)\n",
        "\n",
        "  for i in range(idx): ###\n",
        "    arr_idx = map_matrix_to_flat_idx(i,idx)\n",
        "    curr_dist = subset_data[arr_idx]\n",
        "    if len(heap) == 0:\n",
        "      heap.append([curr_dist,i])\n",
        "    else:\n",
        "      if (heap[0][0]>curr_dist):\n",
        "        heap.insert(0, [curr_dist,i])\n",
        "      else:\n",
        "        heap.append([curr_dist,i])\n",
        "        heap.sort(key=lambda x: x[0])\n",
        "      if(len(heap)>k):\n",
        "        heap.pop(-1)\n",
        "\n",
        "  # reporting most frequent label\n",
        "  d = {}\n",
        "  for i in range(k):\n",
        "    if train_labels[heap[i][1]] in d:\n",
        "      d[train_labels[heap[i][1]]] += 1\n",
        "    else:\n",
        "      d[train_labels[heap[i][1]]] = 1\n",
        "  return max(d, key=d.get)\n"
      ],
      "metadata": {
        "id": "M6cwcPlyQq_E"
      },
      "id": "M6cwcPlyQq_E",
      "execution_count": 44,
      "outputs": []
    },
    {
      "cell_type": "code",
      "source": [
        "# Evaluating train\n",
        "correct = 0\n",
        "for i in range(100): ####\n",
        "  if(eval_for_train(i) == all_labels[i]):\n",
        "    correct += 1\n",
        "print(f'Training Accuracy: {(correct/100)*100}') ####"
      ],
      "metadata": {
        "id": "VQCaR_ZnRmnJ",
        "colab": {
          "base_uri": "https://localhost:8080/"
        },
        "outputId": "945f3508-f09e-473a-a108-44a082fc6f83"
      },
      "id": "VQCaR_ZnRmnJ",
      "execution_count": 47,
      "outputs": [
        {
          "output_type": "stream",
          "name": "stdout",
          "text": [
            "Training Accuracy: 12.0\n"
          ]
        }
      ]
    },
    {
      "cell_type": "code",
      "source": [
        "# Evaluating Validation\n",
        "correct = 0\n",
        "for i in range(56000,56100): ####\n",
        "  if(eval_for_test_and_val(i) == all_labels[i]):\n",
        "    correct += 1\n",
        "print(f'Validation Accuracy: {(correct/100)*100}') ####"
      ],
      "metadata": {
        "id": "klv4ViWeR8Lj",
        "colab": {
          "base_uri": "https://localhost:8080/"
        },
        "outputId": "90ff9023-4e8c-4eb0-f91c-0c58b01e4aba"
      },
      "id": "klv4ViWeR8Lj",
      "execution_count": 45,
      "outputs": [
        {
          "output_type": "stream",
          "name": "stdout",
          "text": [
            "Validation Accuracy: 18.0\n"
          ]
        }
      ]
    },
    {
      "cell_type": "code",
      "source": [
        "# Evaluating Validation\n",
        "correct = 0\n",
        "for i in range(63000,63100): ####\n",
        "  if(eval_for_test_and_val(i) == all_labels[i]):\n",
        "    correct += 1\n",
        "print(f'Validation Accuracy: {(correct/100)*100}') ####"
      ],
      "metadata": {
        "id": "UHkeRVc0R-Oi",
        "colab": {
          "base_uri": "https://localhost:8080/"
        },
        "outputId": "0fdffee7-4cca-47a2-998f-997477f0c8d7"
      },
      "id": "UHkeRVc0R-Oi",
      "execution_count": 46,
      "outputs": [
        {
          "output_type": "stream",
          "name": "stdout",
          "text": [
            "Validation Accuracy: 13.0\n"
          ]
        }
      ]
    },
    {
      "cell_type": "code",
      "source": [],
      "metadata": {
        "id": "LacsOK1j2Ums"
      },
      "id": "LacsOK1j2Ums",
      "execution_count": null,
      "outputs": []
    }
  ],
  "metadata": {
    "kernelspec": {
      "display_name": "Python 3",
      "name": "python3"
    },
    "language_info": {
      "name": "python"
    },
    "colab": {
      "provenance": [],
      "machine_shape": "hm"
    }
  },
  "nbformat": 4,
  "nbformat_minor": 5
}